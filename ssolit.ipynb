{
 "cells": [
  {
   "cell_type": "markdown",
   "metadata": {
    "tags": []
   },
   "source": [
    "# Set up"
   ]
  },
  {
   "cell_type": "markdown",
   "metadata": {},
   "source": [
    "## Imports"
   ]
  },
  {
   "cell_type": "code",
   "execution_count": null,
   "metadata": {},
   "outputs": [],
   "source": [
    "# installs\n",
    "!pip install dill\n",
    "!pip install xgboost\n",
    "!pip install sklearn==0.0.post2"
   ]
  },
  {
   "cell_type": "code",
   "execution_count": null,
   "metadata": {},
   "outputs": [],
   "source": [
    "# Imports\n",
    "import pandas as pd\n",
    "import numpy as np\n",
    "import sklearn as sk\n",
    "from sklearn import *\n",
    "import dill as pkl\n",
    "from xgboost.sklearn import XGBRegressor\n",
    "\n",
    "import math\n",
    "from sklearn.metrics import mean_squared_error\n",
    "\n",
    "print(sk.__version__)"
   ]
  },
  {
   "cell_type": "code",
   "execution_count": null,
   "metadata": {},
   "outputs": [],
   "source": [
    "import xgboost as xg\n",
    "print(xg.__version__)"
   ]
  },
  {
   "cell_type": "code",
   "execution_count": 7,
   "metadata": {},
   "outputs": [],
   "source": [
    "# load data and make subsets \n",
    "x_train = pd.read_csv('training_data.csv') \n",
    "y_train = np.genfromtxt('training_labels.csv', delimiter=',', dtype = float).reshape(340134,1)\n",
    "\n",
    "x_train_subset, x_val, y_train_subset, y_val = sk.model_selection.train_test_split(x_train, y_train, test_size = .15, random_state = 42)\n",
    "# PDL = PointerDecisionList(base_clf, x_train_subset, y_train_subset, x_val, y_val, 1, 1)"
   ]
  },
  {
   "cell_type": "code",
   "execution_count": null,
   "metadata": {},
   "outputs": [],
   "source": [
    "# Import current info\n",
    "# Note, may not be up to date with global git\n",
    "global_preds_path ='models/global_model/training_predictions.csv'\n",
    "global_preds = pd.read_csv(global_preds_path, header=None).transpose()\n",
    "PAS_preds_path = 'models/PAS/training_predictions.csv'\n",
    "PAS_preds = pd.read_csv(PAS_preds_path, header=None).transpose()"
   ]
  },
  {
   "cell_type": "code",
   "execution_count": 35,
   "metadata": {},
   "outputs": [],
   "source": [
    "_, _, old_train_preds, old_val_preds = sk.model_selection.train_test_split(x_train, global_preds, test_size = .15, random_state = 42)"
   ]
  },
  {
   "cell_type": "code",
   "execution_count": null,
   "metadata": {},
   "outputs": [],
   "source": [
    "# confirm correct shapes\n",
    "\n",
    "print(x_train.shape)\n",
    "print(y_train.shape)\n",
    "print(global_preds.shape)\n",
    "print(PAS_preds.shape)\n",
    "print()\n",
    "print(len(y_train_subset))\n",
    "print(len(old_train_preds))\n",
    "print(len(y_val))\n",
    "print(len(old_val_preds))"
   ]
  },
  {
   "cell_type": "markdown",
   "metadata": {},
   "source": [
    "## Helper Functions"
   ]
  },
  {
   "cell_type": "code",
   "execution_count": 66,
   "metadata": {},
   "outputs": [],
   "source": [
    "# check improvement on validation data\n",
    "def check_improvement(old_pred, g, h):\n",
    "    indices = g(x_val)\n",
    "    new_pred = h(x_val[indices])\n",
    "    \n",
    "    improvement = -100000\n",
    "    if(len(new_pred)!=0):   \n",
    "        old_RMSE = math.sqrt(mean_squared_error(y_val[indices], old_val_preds[indices]))\n",
    "        new_RMSE = math.sqrt(mean_squared_error(y_val[indices], new_pred))\n",
    "        improvement = old_RMSE-new_RMSE\n",
    "    # print(f\"improvement: {improvement}\")\n",
    "    # if (improvement>0):\n",
    "    #     print(\"\\n IMPROVEMENT \\n IMPROVEMENT \\n IMPROVEMENT \\n\")\n",
    "    return improvement\n",
    "\n",
    "def check_local_improvement(g,h):\n",
    "    return check_improvement(PAS_preds, g, h)\n",
    "\n",
    "def check_global_improvement(g,h):\n",
    "    return check_improvement(global_preds, g, h)"
   ]
  },
  {
   "cell_type": "code",
   "execution_count": 28,
   "metadata": {},
   "outputs": [],
   "source": [
    "# def check_improvement(old_pred, g, h):\n",
    "#     indices = g(x_val)\n",
    "#     old_pred = old_pred[indices]\n",
    "#     new_pred = h(x_train[indices])\n",
    "#     old_RMSE = math.sqrt(mean_squared_error(y_train[indices], old_pred))\n",
    "#     new_RMSE = math.sqrt(mean_squared_error(y_train[indices], new_pred))\n",
    "#     # print(f\"improvement: {old_RMSE-new_RMSE}\")\n",
    "#     if (old_RMSE-new_RMSE>0):\n",
    "#         print(\"\\n IMPROVEMENT \\n IMPROVEMENT \\n IMPROVEMENT \\n\")\n",
    "#     return old_RMSE-new_RMSE\n",
    "\n",
    "# def check_local_improvement(g,h):\n",
    "#     return check_improvement(PAS_preds, g, h)\n",
    "\n",
    "# def check_global_improvement(g,h):\n",
    "#     return check_improvement(global_preds, g, h)"
   ]
  },
  {
   "cell_type": "code",
   "execution_count": 11,
   "metadata": {},
   "outputs": [],
   "source": [
    "def save_pkls(g,h):\n",
    "    with open('g.pkl', 'wb') as file:\n",
    "        pkl.dump(g, file)\n",
    "\n",
    "    # save hypothesis function to h.pkl\n",
    "    with open('h.pkl', 'wb') as file:\n",
    "        pkl.dump(h, file)"
   ]
  },
  {
   "cell_type": "code",
   "execution_count": 12,
   "metadata": {},
   "outputs": [],
   "source": [
    "def train_basic_h(g):\n",
    "    clf = sk.tree.DecisionTreeRegressor(max_depth = 7, random_state = 42)\n",
    "\n",
    "    # find group indices on data\n",
    "    indices = g(x_train)\n",
    "\n",
    "    # fit model specifically to group\n",
    "    clf.fit(x_train[indices], y_train[indices])\n",
    "\n",
    "    # define hypothesis function as bound clf.predict\n",
    "    h = clf.predict\n",
    "    \n",
    "    return h"
   ]
  },
  {
   "cell_type": "code",
   "execution_count": 13,
   "metadata": {},
   "outputs": [],
   "source": [
    "def train_XGBRegressor(g):\n",
    "    clf = XGBRegressor(max_depth = 10, random_state = 42)\n",
    "    indices = g(x_train_subset)\n",
    "    clf.fit(x_train_subset[indices], y_train_subset[indices])\n",
    "    h = clf.predict\n",
    "    return h"
   ]
  },
  {
   "cell_type": "markdown",
   "metadata": {
    "jp-MarkdownHeadingCollapsed": true,
    "tags": []
   },
   "source": [
    "# Starter Code"
   ]
  },
  {
   "cell_type": "markdown",
   "metadata": {},
   "source": [
    "In order to help minimize start up difficulties, we have provided you with a basic ML workflow for this project, as well as a few possible avenues to explore. "
   ]
  },
  {
   "cell_type": "markdown",
   "metadata": {
    "tags": []
   },
   "source": [
    "## Section 1: ML Workflow for Submitting *(g,h)* pairs"
   ]
  },
  {
   "cell_type": "markdown",
   "metadata": {},
   "source": [
    "### 1.0 Pip Installs and Imports\n",
    "\n",
    "We will be using a package *dill* which is a variant of *pickle*, but allows a bit more expressive byte code serialization. This package is essential to saving your *(g,h)* pairs!."
   ]
  },
  {
   "cell_type": "code",
   "execution_count": null,
   "metadata": {},
   "outputs": [],
   "source": [
    "!pip install dill"
   ]
  },
  {
   "cell_type": "markdown",
   "metadata": {},
   "source": [
    "Here is a non-inclusive list of packages you may find helpful"
   ]
  },
  {
   "cell_type": "code",
   "execution_count": null,
   "metadata": {},
   "outputs": [],
   "source": [
    "# Imports\n",
    "import pandas as pd\n",
    "import numpy as np\n",
    "import sklearn as sk\n",
    "from sklearn import *\n",
    "import dill as pkl"
   ]
  },
  {
   "cell_type": "markdown",
   "metadata": {},
   "source": [
    "### 1.1 Download/Load Data\n",
    "\n",
    "Navigate to the project [webpage](https://declancharrison.github.io/CIS_5230_Bias_Bounty_2023/) and click \"Download Training Data\". Extract the .zip files in the folder where this notebook is located, then run the cell below."
   ]
  },
  {
   "cell_type": "code",
   "execution_count": null,
   "metadata": {},
   "outputs": [],
   "source": [
    "x_train = pd.read_csv('training_data.csv') \n",
    "y_train = np.genfromtxt('training_labels.csv', delimiter=',', dtype = float)"
   ]
  },
  {
   "cell_type": "markdown",
   "metadata": {},
   "source": [
    "### 1.2 Define a (g,h) pair\n",
    "\n",
    "Below is an example of training a Decision Tree Regressor on individuals identified as white from the dataset."
   ]
  },
  {
   "cell_type": "code",
   "execution_count": null,
   "metadata": {},
   "outputs": [],
   "source": [
    "# define group function\n",
    "def g(X):\n",
    "    return X['RAC1P'] == 1\n",
    "\n",
    "# initialize ML hypothesis class\n",
    "clf = sk.tree.DecisionTreeRegressor(max_depth = 5, random_state = 42)\n",
    "\n",
    "# find group indices on data\n",
    "indices = g(x_train)\n",
    "\n",
    "# fit model specifically to group\n",
    "clf.fit(x_train[indices], y_train[indices])\n",
    "\n",
    "# define hypothesis function as bound clf.predict\n",
    "h = clf.predict"
   ]
  },
  {
   "cell_type": "markdown",
   "metadata": {},
   "source": [
    "### 1.3 Save Objects\n",
    "\n",
    "The following cell will save your group model *g* with filename *g.pkl*, and your hypothesis function *h* with filename *h.pkl*."
   ]
  },
  {
   "cell_type": "code",
   "execution_count": null,
   "metadata": {},
   "outputs": [],
   "source": [
    "# save group function to g.pkl\n",
    "with open('g.pkl', 'wb') as file:\n",
    "    pkl.dump(g, file)\n",
    "\n",
    "# save hypothesis function to h.pkl\n",
    "with open('h.pkl', 'wb') as file:\n",
    "    pkl.dump(h, file)"
   ]
  },
  {
   "cell_type": "markdown",
   "metadata": {},
   "source": [
    "### 1.4 Upload Models to Google Drive and Submit PR Request with Links\n",
    "\n",
    "Follow instructions on GitHub Repo to submit a *(g,h)* pair update request!"
   ]
  },
  {
   "cell_type": "markdown",
   "metadata": {
    "tags": []
   },
   "source": [
    "## Section 2: Reducing Workflow Time Requirements by Creating a Local PDL"
   ]
  },
  {
   "cell_type": "markdown",
   "metadata": {},
   "source": [
    "As you have probably noticed, submitting a *(g,h)* pair to the GitHub repository can take a long time depending on the current workload of the server. To approximate whether or not an update will be accepted, we have provided you the PDL architecture file and a workflow that will mimic your team's private PDL maintained by the server. \n",
    "\n",
    "**NOTE: One major caveat is the validation data this workflow uses is a cut from the training data, meaning you will want to refrain from training on it to prevent overfitting.**\n",
    "\n",
    "The way we suggest getting around this without losing data efficacy is to train a *(g,h)* pair on the subset of training data that does not include the validation set, and attempt the *(g,h)* pair update on the local PDL. If the pair is rejected, you can continue tuning hyperparameters or searching for new groups. If the pair is accepted, you can retrain a new *(g,h)* pair over ALL the training data, and submit this pair to the server for an update. This will allow you to \"squeeze all the juice\" from your training data and test potential updates much quicker.  "
   ]
  },
  {
   "cell_type": "code",
   "execution_count": null,
   "metadata": {},
   "outputs": [],
   "source": [
    "### DONT CHANGE THIS CELL ###\n",
    "from pdl import PointerDecisionList\n",
    "\n",
    "x_train_subset, x_val, y_train_subset, y_val = sk.model_selection.train_test_split(x_train, y_train, test_size = .15, random_state = 42)\n",
    "base_clf = sk.tree.DecisionTreeRegressor(max_depth = 1, random_state = 42)\n",
    "base_clf.fit(x_train_subset, y_train_subset)\n",
    "PDL = PointerDecisionList(base_clf, x_train_subset, y_train_subset, x_val, y_val, 1, 1)"
   ]
  },
  {
   "cell_type": "markdown",
   "metadata": {},
   "source": [
    "Train your *(g,h)* pair on the subset of training data below:"
   ]
  },
  {
   "cell_type": "code",
   "execution_count": null,
   "metadata": {},
   "outputs": [],
   "source": [
    "# define group function\n",
    "def g(X):\n",
    "    return X['RAC1P'] == 2\n",
    "\n",
    "# initialize ML hypothesis class\n",
    "clf = sk.tree.DecisionTreeRegressor(max_depth = 5, random_state = 42)\n",
    "\n",
    "# find group indices on data\n",
    "indices = g(x_train_subset)\n",
    "\n",
    "# fit model specifically to group\n",
    "clf.fit(x_train_subset[indices], y_train_subset[indices])\n",
    "\n",
    "# define hypothesis function as bound clf.predict\n",
    "h = clf.predict"
   ]
  },
  {
   "cell_type": "markdown",
   "metadata": {},
   "source": [
    "Attempt an update using the following syntax"
   ]
  },
  {
   "cell_type": "code",
   "execution_count": null,
   "metadata": {},
   "outputs": [],
   "source": [
    "update_flag = PDL.update(g, h, x_train_subset, y_train_subset, x_val, y_val)"
   ]
  },
  {
   "cell_type": "markdown",
   "metadata": {},
   "source": [
    "You can put these two together to train a classifier using the whole training dataset after if it has been accepted:"
   ]
  },
  {
   "cell_type": "code",
   "execution_count": null,
   "metadata": {},
   "outputs": [],
   "source": [
    "# define group function\n",
    "def g(X):\n",
    "    return X['RAC1P'] == 1\n",
    "\n",
    "# initialize ML hypothesis class\n",
    "clf = sk.tree.DecisionTreeRegressor(max_depth = 10, random_state = 42)\n",
    "\n",
    "# find group indices on training subset\n",
    "indices = g(x_train_subset)\n",
    "\n",
    "# fit model specifically to group subset\n",
    "clf.fit(x_train_subset[indices], y_train_subset[indices])\n",
    "\n",
    "# define hypothesis function as bound clf.predict\n",
    "h = clf.predict\n",
    "\n",
    "# compute PDL update\n",
    "update_flag = PDL.update(g, h, x_train_subset, y_train_subset, x_val, y_val)\n",
    "\n",
    "if update_flag:\n",
    "\n",
    "    # recompute indices over whole training dataset\n",
    "    indices = g(x_train)\n",
    "\n",
    "    # refit classifier to full group\n",
    "    clf.fit(x_train[indices], y_train[indices])\n",
    "\n",
    "    # define hypothesis function as bound clf.predict\n",
    "    h = clf.predict    "
   ]
  },
  {
   "cell_type": "markdown",
   "metadata": {},
   "source": [
    "Submit *(g,h)* pair to GitHub!"
   ]
  },
  {
   "cell_type": "markdown",
   "metadata": {},
   "source": [
    "**NOTE: You can save your PDL but it will require that your validation set does not change! Thus, you should not change the random state used to split your training data once you create your PDL**"
   ]
  },
  {
   "cell_type": "code",
   "execution_count": null,
   "metadata": {},
   "outputs": [],
   "source": [
    "# save PDL\n",
    "PDL.save_model()\n",
    "\n",
    "# open PDL structure\n",
    "with open('PDL/model.pkl', 'rb') as file:\n",
    "    PDL = pkl.load(file)\n",
    "\n",
    "# reload group/hypothesis functions to PDL\n",
    "PDL.reload_functions()"
   ]
  },
  {
   "cell_type": "markdown",
   "metadata": {
    "tags": []
   },
   "source": [
    "# Automated Group Finding"
   ]
  },
  {
   "cell_type": "markdown",
   "metadata": {
    "tags": []
   },
   "source": [
    "## Epsilon above/below"
   ]
  },
  {
   "cell_type": "code",
   "execution_count": null,
   "metadata": {},
   "outputs": [],
   "source": [
    "# view how different global is from labels\n",
    "abs_diff = (global_preds - y_train).abs()\n",
    "abs_diff.describe()"
   ]
  },
  {
   "cell_type": "code",
   "execution_count": null,
   "metadata": {},
   "outputs": [],
   "source": [
    "# Train clf to identify rows with big difference\n",
    "\n",
    "def epsilon_above(epsilon):\n",
    "    # define 0,1 labels where current predictions OVERESTIMATE by at least epsilon\n",
    "    binary_labels = (global_preds - y_train) < epsilon\n",
    "\n",
    "    # define group classifier class\n",
    "    clf = sk.tree.DecisionTreeClassifier(max_depth = 10, random_state = 42)\n",
    "\n",
    "    # fit classifier to binary labels\n",
    "    clf.fit(x_train, binary_labels)\n",
    "\n",
    "    # define g\n",
    "    g = clf.predict\n",
    "    # visualize results\n",
    "    # pd.DataFrame(g(x_train).astype(int)).describe()\n",
    "    \n",
    "    return g\n",
    "\n",
    "def epsilon_below(epsilon):\n",
    "    # define 0,1 labels where current predictions OVERESTIMATE by at least epsilon\n",
    "    binary_labels = (y_train - global_preds) < epsilon\n",
    "\n",
    "    # define group classifier class\n",
    "    clf = sk.tree.DecisionTreeClassifier(max_depth = 10, random_state = 42)\n",
    "\n",
    "    # fit classifier to binary labels\n",
    "    clf.fit(x_train, binary_labels)\n",
    "\n",
    "    # define g\n",
    "    g = clf.predict\n",
    "    # visualize results\n",
    "    # pd.DataFrame(g(x_train).astype(int)).describe()\n",
    "    \n",
    "    return g"
   ]
  },
  {
   "cell_type": "code",
   "execution_count": null,
   "metadata": {},
   "outputs": [],
   "source": [
    "for i in range(20):\n",
    "    g = epsilon_below(i*5000)\n",
    "    train_XGBRegressor(g)\n",
    "    print(str(i*1000))\n",
    "    check_global_improvement(g,h)"
   ]
  },
  {
   "cell_type": "markdown",
   "metadata": {},
   "source": [
    "## Targeted Correction"
   ]
  },
  {
   "cell_type": "code",
   "execution_count": 14,
   "metadata": {},
   "outputs": [],
   "source": [
    "class targeted_correction:\n",
    "    def __init__(self, clf, value, epsilon):\n",
    "        self.clf = clf\n",
    "        self.value = value\n",
    "        self.epsilon = epsilon\n",
    "\n",
    "    def __call__(self, X):\n",
    "        return self.predict(X)\n",
    "    \n",
    "    def predict(self, X):\n",
    "        predictions = self.clf.predict(X)\n",
    "        return abs(predictions - self.value) < self.epsilon"
   ]
  },
  {
   "cell_type": "code",
   "execution_count": null,
   "metadata": {},
   "outputs": [],
   "source": [
    "class XGBRegressor_wrap:\n",
    "    def __init__(self, clf):\n",
    "        self.clf = clf\n",
    "    def __call__(self, X):\n",
    "        "
   ]
  },
  {
   "cell_type": "code",
   "execution_count": 15,
   "metadata": {},
   "outputs": [
    {
     "data": {
      "text/html": [
       "<style>#sk-container-id-1 {color: black;background-color: white;}#sk-container-id-1 pre{padding: 0;}#sk-container-id-1 div.sk-toggleable {background-color: white;}#sk-container-id-1 label.sk-toggleable__label {cursor: pointer;display: block;width: 100%;margin-bottom: 0;padding: 0.3em;box-sizing: border-box;text-align: center;}#sk-container-id-1 label.sk-toggleable__label-arrow:before {content: \"▸\";float: left;margin-right: 0.25em;color: #696969;}#sk-container-id-1 label.sk-toggleable__label-arrow:hover:before {color: black;}#sk-container-id-1 div.sk-estimator:hover label.sk-toggleable__label-arrow:before {color: black;}#sk-container-id-1 div.sk-toggleable__content {max-height: 0;max-width: 0;overflow: hidden;text-align: left;background-color: #f0f8ff;}#sk-container-id-1 div.sk-toggleable__content pre {margin: 0.2em;color: black;border-radius: 0.25em;background-color: #f0f8ff;}#sk-container-id-1 input.sk-toggleable__control:checked~div.sk-toggleable__content {max-height: 200px;max-width: 100%;overflow: auto;}#sk-container-id-1 input.sk-toggleable__control:checked~label.sk-toggleable__label-arrow:before {content: \"▾\";}#sk-container-id-1 div.sk-estimator input.sk-toggleable__control:checked~label.sk-toggleable__label {background-color: #d4ebff;}#sk-container-id-1 div.sk-label input.sk-toggleable__control:checked~label.sk-toggleable__label {background-color: #d4ebff;}#sk-container-id-1 input.sk-hidden--visually {border: 0;clip: rect(1px 1px 1px 1px);clip: rect(1px, 1px, 1px, 1px);height: 1px;margin: -1px;overflow: hidden;padding: 0;position: absolute;width: 1px;}#sk-container-id-1 div.sk-estimator {font-family: monospace;background-color: #f0f8ff;border: 1px dotted black;border-radius: 0.25em;box-sizing: border-box;margin-bottom: 0.5em;}#sk-container-id-1 div.sk-estimator:hover {background-color: #d4ebff;}#sk-container-id-1 div.sk-parallel-item::after {content: \"\";width: 100%;border-bottom: 1px solid gray;flex-grow: 1;}#sk-container-id-1 div.sk-label:hover label.sk-toggleable__label {background-color: #d4ebff;}#sk-container-id-1 div.sk-serial::before {content: \"\";position: absolute;border-left: 1px solid gray;box-sizing: border-box;top: 0;bottom: 0;left: 50%;z-index: 0;}#sk-container-id-1 div.sk-serial {display: flex;flex-direction: column;align-items: center;background-color: white;padding-right: 0.2em;padding-left: 0.2em;position: relative;}#sk-container-id-1 div.sk-item {position: relative;z-index: 1;}#sk-container-id-1 div.sk-parallel {display: flex;align-items: stretch;justify-content: center;background-color: white;position: relative;}#sk-container-id-1 div.sk-item::before, #sk-container-id-1 div.sk-parallel-item::before {content: \"\";position: absolute;border-left: 1px solid gray;box-sizing: border-box;top: 0;bottom: 0;left: 50%;z-index: -1;}#sk-container-id-1 div.sk-parallel-item {display: flex;flex-direction: column;z-index: 1;position: relative;background-color: white;}#sk-container-id-1 div.sk-parallel-item:first-child::after {align-self: flex-end;width: 50%;}#sk-container-id-1 div.sk-parallel-item:last-child::after {align-self: flex-start;width: 50%;}#sk-container-id-1 div.sk-parallel-item:only-child::after {width: 0;}#sk-container-id-1 div.sk-dashed-wrapped {border: 1px dashed gray;margin: 0 0.4em 0.5em 0.4em;box-sizing: border-box;padding-bottom: 0.4em;background-color: white;}#sk-container-id-1 div.sk-label label {font-family: monospace;font-weight: bold;display: inline-block;line-height: 1.2em;}#sk-container-id-1 div.sk-label-container {text-align: center;}#sk-container-id-1 div.sk-container {/* jupyter's `normalize.less` sets `[hidden] { display: none; }` but bootstrap.min.css set `[hidden] { display: none !important; }` so we also need the `!important` here to be able to override the default hidden behavior on the sphinx rendered scikit-learn.org. See: https://github.com/scikit-learn/scikit-learn/issues/21755 */display: inline-block !important;position: relative;}#sk-container-id-1 div.sk-text-repr-fallback {display: none;}</style><div id=\"sk-container-id-1\" class=\"sk-top-container\"><div class=\"sk-text-repr-fallback\"><pre>DecisionTreeRegressor(max_depth=7, random_state=42)</pre><b>In a Jupyter environment, please rerun this cell to show the HTML representation or trust the notebook. <br />On GitHub, the HTML representation is unable to render, please try loading this page with nbviewer.org.</b></div><div class=\"sk-container\" hidden><div class=\"sk-item\"><div class=\"sk-estimator sk-toggleable\"><input class=\"sk-toggleable__control sk-hidden--visually\" id=\"sk-estimator-id-1\" type=\"checkbox\" checked><label for=\"sk-estimator-id-1\" class=\"sk-toggleable__label sk-toggleable__label-arrow\">DecisionTreeRegressor</label><div class=\"sk-toggleable__content\"><pre>DecisionTreeRegressor(max_depth=7, random_state=42)</pre></div></div></div></div></div>"
      ],
      "text/plain": [
       "DecisionTreeRegressor(max_depth=7, random_state=42)"
      ]
     },
     "execution_count": 15,
     "metadata": {},
     "output_type": "execute_result"
    }
   ],
   "source": [
    "clf = sk.tree.DecisionTreeRegressor(max_depth = 7, random_state = 42)\n",
    "clf.fit(x_train, y_train)"
   ]
  },
  {
   "cell_type": "code",
   "execution_count": null,
   "metadata": {},
   "outputs": [],
   "source": [
    "# data exploration\n",
    "for i in range(100):\n",
    "    g = targeted_correction(clf, i*1000, 5000)\n",
    "    indices = g(x_train)\n",
    "    # print(indices)\n",
    "    if (indices.any()):\n",
    "        old_RMSE = math.sqrt(mean_squared_error(y_train[indices], global_preds[indices]))\n",
    "        print(i, old_RMSE)"
   ]
  },
  {
   "cell_type": "code",
   "execution_count": 58,
   "metadata": {},
   "outputs": [
    {
     "name": "stdout",
     "output_type": "stream",
     "text": [
      "improvement: -100000\n"
     ]
    }
   ],
   "source": [
    "g = targeted_correction(clf, 91*1000, 5000)\n",
    "h = train_XGBRegressor(g)\n",
    "if(check_global_improvement(g,h)>0):\n",
    "    save_pkls(g,h)"
   ]
  },
  {
   "cell_type": "code",
   "execution_count": null,
   "metadata": {},
   "outputs": [],
   "source": [
    "for i in range(0, 1):\n",
    "    # print(\"i = {}\".format(i))\n",
    "    for j in range(5, 35):\n",
    "        v = i*1000\n",
    "        e = j*400\n",
    "        print(\"v = {}, e = {}\".format(v, e))\n",
    "        g = targeted_correction(clf, e, j)\n",
    "        # h = train_XGBRegressor(g)\n",
    "        if (check_global_improvement(g,h) > 0):\n",
    "                print(v,e)\n",
    "                break;"
   ]
  },
  {
   "cell_type": "markdown",
   "metadata": {},
   "source": [
    "## Clustering"
   ]
  },
  {
   "cell_type": "code",
   "execution_count": 62,
   "metadata": {},
   "outputs": [
    {
     "name": "stderr",
     "output_type": "stream",
     "text": [
      "/opt/anaconda3/lib/python3.9/site-packages/sklearn/cluster/_kmeans.py:870: FutureWarning: The default value of `n_init` will change from 10 to 'auto' in 1.4. Set the value of `n_init` explicitly to suppress the warning\n",
      "  warnings.warn(\n"
     ]
    },
    {
     "data": {
      "text/plain": [
       "array([False, False, False, ...,  True, False,  True])"
      ]
     },
     "execution_count": 62,
     "metadata": {},
     "output_type": "execute_result"
    }
   ],
   "source": [
    "class cluster_n:\n",
    "\n",
    "    def __init__(self, clf, n):\n",
    "        # define attibutes here. You may add more parameters to the init method (see example below)\n",
    "        self.clf = clf  \n",
    "        self.n = n\n",
    "\n",
    "    # DO NOT CHANGE CALL FUNCTION, FORMAT .predict\n",
    "    def __call__(self, X):\n",
    "        return self.predict(X)\n",
    "    \n",
    "    def predict(self, X):\n",
    "        # find instances where cluster is 1\n",
    "        return self.clf.predict(X) == self.n\n",
    "\n",
    "    \n",
    "cluster_clf = sk.cluster.KMeans(n_clusters= 5, random_state = 42, n_init=10)\n",
    "cluster_clf.fit(x_train)\n",
    "g = cluster_n(cluster_clf, 1)\n",
    "\n",
    "# visualize results\n",
    "g(x_train)"
   ]
  },
  {
   "cell_type": "code",
   "execution_count": 64,
   "metadata": {},
   "outputs": [],
   "source": [
    "def save_cluster_pkls(g, h, i=\"\"):\n",
    "    # save group function to g.pkl\n",
    "    g_path = \"cluster_pkls/g{}.pkl\".format(i)\n",
    "    h_path = \"cluster_pkls/h{}.pkl\".format(i)\n",
    "    \n",
    "    with open(g_path, 'wb') as file:\n",
    "        pkl.dump(g, file)\n",
    "\n",
    "    # save hypothesis function to h.pkl\n",
    "    with open(h_path, 'wb') as file:\n",
    "        pkl.dump(h, file)"
   ]
  },
  {
   "cell_type": "code",
   "execution_count": 68,
   "metadata": {},
   "outputs": [
    {
     "name": "stdout",
     "output_type": "stream",
     "text": [
      "\n",
      " starting n=100\n",
      "\n",
      "100 7 29.761137795778268 1297\n",
      "100 8 1011.7760929571778 903\n",
      "100 21 583.0098874141149 2460\n",
      "100 23 2177.5774131573216 1030\n",
      "100 27 2496.4230284159366 763\n",
      "100 32 34.730515861785534 1295\n",
      "100 33 270.66115488817013 1678\n",
      "100 45 527.9166802486798 959\n",
      "100 49 1058.0636988506922 340\n",
      "100 50 498.18044380775973 3824\n",
      "100 53 175.58684390818598 1964\n",
      "100 57 128.29670803504268 1692\n",
      "100 62 606.3828751836518 3426\n",
      "100 75 199.60253681036556 2007\n",
      "100 76 116.00687099235074 979\n",
      "100 78 1701.48280786115 1303\n",
      "100 79 283.8631980173668 1006\n",
      "100 80 686.2639668247757 1280\n",
      "100 82 533.5565123081724 892\n",
      "100 83 13.930983860580454 3478\n",
      "100 84 2486.4485488541814 550\n",
      "100 90 304.7011411597141 1269\n",
      "100 94 1936.7942408894487 776\n"
     ]
    }
   ],
   "source": [
    "n_list = [100]\n",
    "\n",
    "for n in n_list:\n",
    "    print(\"\\n starting n=\" + str(n) + \"\\n\")\n",
    "    cluster_clf = sk.cluster.KMeans(n_clusters=n, random_state = 42, n_init=10)\n",
    "    cluster_clf.fit(x_train)\n",
    "    \n",
    "    for i in range(0, n):\n",
    "        g = cluster_n(cluster_clf, i)\n",
    "        h = train_basic_h(g)\n",
    "        if (check_global_improvement(g,h) > 0):\n",
    "            print(n, i, check_global_improvement(g,h), g(x_train).sum())\n",
    "            save_cluster_pkls(g,h,i)\n",
    "            \n",
    "        "
   ]
  },
  {
   "cell_type": "code",
   "execution_count": null,
   "metadata": {},
   "outputs": [],
   "source": []
  }
 ],
 "metadata": {
  "kernelspec": {
   "display_name": "Python 3 (ipykernel)",
   "language": "python",
   "name": "python3"
  },
  "language_info": {
   "codemirror_mode": {
    "name": "ipython",
    "version": 3
   },
   "file_extension": ".py",
   "mimetype": "text/x-python",
   "name": "python",
   "nbconvert_exporter": "python",
   "pygments_lexer": "ipython3",
   "version": "3.9.13"
  }
 },
 "nbformat": 4,
 "nbformat_minor": 4
}
