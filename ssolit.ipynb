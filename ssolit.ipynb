{
  "cells": [
    {
      "cell_type": "markdown",
      "metadata": {
        "tags": [],
        "id": "NK9t5XpMHAS2"
      },
      "source": [
        "# Set up"
      ]
    },
    {
      "cell_type": "markdown",
      "metadata": {
        "id": "VqJR0zrdHAS6"
      },
      "source": [
        "## Imports"
      ]
    },
    {
      "cell_type": "code",
      "execution_count": null,
      "metadata": {
        "id": "3WphXUJ5HAS6",
        "outputId": "a361dfce-4ae9-4e26-8125-970af4a256ae"
      },
      "outputs": [
        {
          "name": "stdout",
          "output_type": "stream",
          "text": [
            "Found existing installation: sklearn 0.0.post1\n",
            "Uninstalling sklearn-0.0.post1:\n",
            "  Would remove:\n",
            "    /opt/anaconda3/lib/python3.9/site-packages/sklearn-0.0.post1.dist-info/*\n",
            "    /opt/anaconda3/lib/python3.9/site-packages/test_brownout.py\n",
            "Proceed (Y/n)? ^C\n",
            "\u001b[31mERROR: Operation cancelled by user\u001b[0m\u001b[31m\n",
            "\u001b[0m\u001b[31mERROR: Could not find a version that satisfies the requirement sklearn==1.2.1 (from versions: 0.0, 0.0.post1, 0.0.post2)\u001b[0m\u001b[31m\n",
            "\u001b[0m\u001b[31mERROR: No matching distribution found for sklearn==1.2.1\u001b[0m\u001b[31m\n",
            "\u001b[0m"
          ]
        }
      ],
      "source": [
        "!pip uninstall sklearn\n",
        "!pip install sklearn==1.2.1"
      ]
    },
    {
      "cell_type": "code",
      "execution_count": null,
      "metadata": {
        "id": "psVOEg93HAS8",
        "outputId": "64a1613c-e195-402f-9fd2-ada31b63b718"
      },
      "outputs": [
        {
          "name": "stdout",
          "output_type": "stream",
          "text": [
            "Requirement already satisfied: scikit-learn==1.2.1 in /opt/anaconda3/lib/python3.9/site-packages (1.2.1)\n",
            "Requirement already satisfied: joblib>=1.1.1 in /opt/anaconda3/lib/python3.9/site-packages (from scikit-learn==1.2.1) (1.2.0)\n",
            "Requirement already satisfied: scipy>=1.3.2 in /opt/anaconda3/lib/python3.9/site-packages (from scikit-learn==1.2.1) (1.9.1)\n",
            "Requirement already satisfied: numpy>=1.17.3 in /opt/anaconda3/lib/python3.9/site-packages (from scikit-learn==1.2.1) (1.21.5)\n",
            "Requirement already satisfied: threadpoolctl>=2.0.0 in /opt/anaconda3/lib/python3.9/site-packages (from scikit-learn==1.2.1) (2.2.0)\n"
          ]
        }
      ],
      "source": [
        "!pip install scikit-learn==1.2.1"
      ]
    },
    {
      "cell_type": "code",
      "execution_count": 5,
      "metadata": {
        "colab": {
          "base_uri": "https://localhost:8080/"
        },
        "id": "8DQuxb_fHAS8",
        "outputId": "47be426e-ea2e-402d-b604-b20d096a48b8"
      },
      "outputs": [
        {
          "output_type": "stream",
          "name": "stdout",
          "text": [
            "1.2.2\n"
          ]
        }
      ],
      "source": [
        "import sklearn as sk\n",
        "print(sk.__version__)\n",
        "# print(scikit-learn.__version__)"
      ]
    },
    {
      "cell_type": "code",
      "execution_count": 6,
      "metadata": {
        "colab": {
          "base_uri": "https://localhost:8080/"
        },
        "id": "_un6wpwlHAS9",
        "outputId": "8dd177d5-62f7-4cfa-b300-d76fcdd5c3fc"
      },
      "outputs": [
        {
          "output_type": "stream",
          "name": "stdout",
          "text": [
            "Looking in indexes: https://pypi.org/simple, https://us-python.pkg.dev/colab-wheels/public/simple/\n",
            "Requirement already satisfied: dill in /usr/local/lib/python3.9/dist-packages (0.3.6)\n"
          ]
        }
      ],
      "source": [
        "!pip install dill"
      ]
    },
    {
      "cell_type": "code",
      "execution_count": 7,
      "metadata": {
        "id": "agp2T6BeHAS9"
      },
      "outputs": [],
      "source": [
        "# Imports\n",
        "import pandas as pd\n",
        "import numpy as np\n",
        "import sklearn as sk\n",
        "from sklearn import *\n",
        "import dill as pkl\n",
        "\n",
        "import math\n",
        "from sklearn.metrics import mean_squared_error"
      ]
    },
    {
      "cell_type": "code",
      "source": [
        "from google.colab import drive\n",
        "drive.mount('/content/drive')"
      ],
      "metadata": {
        "colab": {
          "base_uri": "https://localhost:8080/"
        },
        "id": "gGeDQ6QrHMtm",
        "outputId": "2e714bbc-bda5-419d-9dda-0008a27f488f"
      },
      "execution_count": 9,
      "outputs": [
        {
          "output_type": "stream",
          "name": "stdout",
          "text": [
            "Mounted at /content/drive\n"
          ]
        }
      ]
    },
    {
      "cell_type": "code",
      "execution_count": 10,
      "metadata": {
        "id": "7CxteTp1HAS9"
      },
      "outputs": [],
      "source": [
        "# load data and make subsets \n",
        "x_train = pd.read_csv('/content/drive/MyDrive/Cis523/Bounty/training_data.csv') \n",
        "y_train = np.genfromtxt('/content/drive/MyDrive/Cis523/Bounty/training_labels.csv', delimiter=',', dtype = float).reshape(340134,1)\n",
        "\n",
        "x_train_subset, x_val, y_train_subset, y_val = sk.model_selection.train_test_split(x_train, y_train, test_size = .15, random_state = 42)\n",
        "# PDL = PointerDecisionList(base_clf, x_train_subset, y_train_subset, x_val, y_val, 1, 1)"
      ]
    },
    {
      "cell_type": "code",
      "execution_count": 12,
      "metadata": {
        "id": "yi28A28QHAS-"
      },
      "outputs": [],
      "source": [
        "# Import current info\n",
        "# Note, may not be up to date with global git\n",
        "global_preds_path ='/content/drive/MyDrive/Cis523/Bounty/models/global_model/training_predictions.csv'\n",
        "global_preds = pd.read_csv(global_preds_path, header=None).transpose()\n",
        "PAS_preds_path = '/content/drive/MyDrive/Cis523/Bounty/models/PAS/training_predictions.csv'\n",
        "PAS_preds = pd.read_csv(PAS_preds_path, header=None).transpose()"
      ]
    },
    {
      "cell_type": "code",
      "execution_count": 13,
      "metadata": {
        "colab": {
          "base_uri": "https://localhost:8080/"
        },
        "id": "1YNFmeEoHAS-",
        "outputId": "d0886585-1b75-4e4d-d877-c6788d039767"
      },
      "outputs": [
        {
          "output_type": "stream",
          "name": "stdout",
          "text": [
            "(340134, 21)\n",
            "(340134, 1)\n",
            "(340134, 1)\n",
            "(340134, 1)\n"
          ]
        }
      ],
      "source": [
        "print(x_train.shape)\n",
        "print(y_train.shape)\n",
        "print(global_preds.shape)\n",
        "print(PAS_preds.shape)"
      ]
    },
    {
      "cell_type": "markdown",
      "metadata": {
        "id": "8Ffo6zfRHAS-"
      },
      "source": [
        "## Helper Functions"
      ]
    },
    {
      "cell_type": "code",
      "execution_count": 14,
      "metadata": {
        "id": "pqwrFw7hHAS-"
      },
      "outputs": [],
      "source": [
        "def check_improvement(old_pred, g, h):\n",
        "    indices = g(x_train)\n",
        "    old_pred = old_pred[indices]\n",
        "    new_pred = h(x_train[indices])\n",
        "    old_RMSE = math.sqrt(mean_squared_error(y_train[indices], old_pred))\n",
        "    new_RMSE = math.sqrt(mean_squared_error(y_train[indices], new_pred))\n",
        "    # print(f\"improvement: {old_RMSE-new_RMSE}\")\n",
        "    # if (old_RMSE-new_RMSE>0):\n",
        "        # print(\"\\n IMPROVEMENT \\n IMPROVEMENT \\n IMPROVEMENT \\n\")\n",
        "    return old_RMSE-new_RMSE\n",
        "\n",
        "def check_local_improvement(g,h):\n",
        "    return check_improvement(PAS_preds, g, h)\n",
        "\n",
        "def check_global_improvement(g,h):\n",
        "    return check_improvement(global_preds, g, h)"
      ]
    },
    {
      "cell_type": "code",
      "execution_count": 27,
      "metadata": {
        "id": "seYaa_mTHAS_"
      },
      "outputs": [],
      "source": [
        "def train_basic_h(g):\n",
        "    clf = sk.tree.DecisionTreeRegressor(max_depth = 5, random_state = 42)\n",
        "\n",
        "    # find group indices on data\n",
        "    indices = g(x_train)\n",
        "\n",
        "    # fit model specifically to group\n",
        "    clf.fit(x_train[indices], y_train[indices])\n",
        "\n",
        "    # define hypothesis function as bound clf.predict\n",
        "    h = clf.predict\n",
        "    \n",
        "    return h"
      ]
    },
    {
      "cell_type": "markdown",
      "metadata": {
        "tags": [],
        "id": "UWTAgIR0HAS_"
      },
      "source": [
        "# Starter Code"
      ]
    },
    {
      "cell_type": "markdown",
      "metadata": {
        "id": "VG4Y1XH-HAS_"
      },
      "source": [
        "In order to help minimize start up difficulties, we have provided you with a basic ML workflow for this project, as well as a few possible avenues to explore. "
      ]
    },
    {
      "cell_type": "markdown",
      "metadata": {
        "tags": [],
        "id": "4UQeHGLrHAS_"
      },
      "source": [
        "## Section 1: ML Workflow for Submitting *(g,h)* pairs"
      ]
    },
    {
      "cell_type": "markdown",
      "metadata": {
        "id": "p2ZSw9cFHATA"
      },
      "source": [
        "### 1.0 Pip Installs and Imports\n",
        "\n",
        "We will be using a package *dill* which is a variant of *pickle*, but allows a bit more expressive byte code serialization. This package is essential to saving your *(g,h)* pairs!."
      ]
    },
    {
      "cell_type": "code",
      "execution_count": null,
      "metadata": {
        "id": "gUEZ-6ZpHATA"
      },
      "outputs": [],
      "source": [
        "!pip install dill"
      ]
    },
    {
      "cell_type": "markdown",
      "metadata": {
        "id": "sMd-VefAHATA"
      },
      "source": [
        "Here is a non-inclusive list of packages you may find helpful"
      ]
    },
    {
      "cell_type": "code",
      "execution_count": null,
      "metadata": {
        "id": "myIirkwoHATA"
      },
      "outputs": [],
      "source": [
        "# Imports\n",
        "import pandas as pd\n",
        "import numpy as np\n",
        "import sklearn as sk\n",
        "from sklearn import *\n",
        "import dill as pkl"
      ]
    },
    {
      "cell_type": "markdown",
      "metadata": {
        "id": "N2EOeyJwHATB"
      },
      "source": [
        "### 1.1 Download/Load Data\n",
        "\n",
        "Navigate to the project [webpage](https://declancharrison.github.io/CIS_5230_Bias_Bounty_2023/) and click \"Download Training Data\". Extract the .zip files in the folder where this notebook is located, then run the cell below."
      ]
    },
    {
      "cell_type": "code",
      "execution_count": null,
      "metadata": {
        "id": "hS5fnprqHATB"
      },
      "outputs": [],
      "source": [
        "x_train = pd.read_csv('training_data.csv') \n",
        "y_train = np.genfromtxt('training_labels.csv', delimiter=',', dtype = float)"
      ]
    },
    {
      "cell_type": "markdown",
      "metadata": {
        "id": "_pA7QbDoHATB"
      },
      "source": [
        "### 1.2 Define a (g,h) pair\n",
        "\n",
        "Below is an example of training a Decision Tree Regressor on individuals identified as white from the dataset."
      ]
    },
    {
      "cell_type": "code",
      "execution_count": null,
      "metadata": {
        "id": "bb5OSBgBHATB"
      },
      "outputs": [],
      "source": [
        "# define group function\n",
        "def g(X):\n",
        "    return X['RAC1P'] == 1\n",
        "\n",
        "# initialize ML hypothesis class\n",
        "clf = sk.tree.DecisionTreeRegressor(max_depth = 5, random_state = 42)\n",
        "\n",
        "# find group indices on data\n",
        "indices = g(x_train)\n",
        "\n",
        "# fit model specifically to group\n",
        "clf.fit(x_train[indices], y_train[indices])\n",
        "\n",
        "# define hypothesis function as bound clf.predict\n",
        "h = clf.predict"
      ]
    },
    {
      "cell_type": "markdown",
      "metadata": {
        "id": "5ty6gykQHATC"
      },
      "source": [
        "### 1.3 Save Objects\n",
        "\n",
        "The following cell will save your group model *g* with filename *g.pkl*, and your hypothesis function *h* with filename *h.pkl*."
      ]
    },
    {
      "cell_type": "code",
      "execution_count": null,
      "metadata": {
        "id": "J3bxq0f9HATC"
      },
      "outputs": [],
      "source": [
        "# save group function to g.pkl\n",
        "with open('cluster_pkls/g.pkl', 'wb') as file:\n",
        "    pkl.dump(g, file)\n",
        "\n",
        "# save hypothesis function to h.pkl\n",
        "with open('cluster_pkls/h.pkl', 'wb') as file:\n",
        "    pkl.dump(h, file)"
      ]
    },
    {
      "cell_type": "markdown",
      "metadata": {
        "id": "uLhUNpjDHATC"
      },
      "source": [
        "### 1.4 Upload Models to Google Drive and Submit PR Request with Links\n",
        "\n",
        "Follow instructions on GitHub Repo to submit a *(g,h)* pair update request!"
      ]
    },
    {
      "cell_type": "markdown",
      "metadata": {
        "tags": [],
        "id": "_D6PYtpGHATD"
      },
      "source": [
        "## Section 2: Reducing Workflow Time Requirements by Creating a Local PDL"
      ]
    },
    {
      "cell_type": "markdown",
      "metadata": {
        "id": "R6FnLjDkHATD"
      },
      "source": [
        "As you have probably noticed, submitting a *(g,h)* pair to the GitHub repository can take a long time depending on the current workload of the server. To approximate whether or not an update will be accepted, we have provided you the PDL architecture file and a workflow that will mimic your team's private PDL maintained by the server. \n",
        "\n",
        "**NOTE: One major caveat is the validation data this workflow uses is a cut from the training data, meaning you will want to refrain from training on it to prevent overfitting.**\n",
        "\n",
        "The way we suggest getting around this without losing data efficacy is to train a *(g,h)* pair on the subset of training data that does not include the validation set, and attempt the *(g,h)* pair update on the local PDL. If the pair is rejected, you can continue tuning hyperparameters or searching for new groups. If the pair is accepted, you can retrain a new *(g,h)* pair over ALL the training data, and submit this pair to the server for an update. This will allow you to \"squeeze all the juice\" from your training data and test potential updates much quicker.  "
      ]
    },
    {
      "cell_type": "code",
      "execution_count": null,
      "metadata": {
        "id": "oM0t47sCHATD"
      },
      "outputs": [],
      "source": [
        "### DONT CHANGE THIS CELL ###\n",
        "from pdl import PointerDecisionList\n",
        "\n",
        "x_train_subset, x_val, y_train_subset, y_val = sk.model_selection.train_test_split(x_train, y_train, test_size = .15, random_state = 42)\n",
        "base_clf = sk.tree.DecisionTreeRegressor(max_depth = 1, random_state = 42)\n",
        "base_clf.fit(x_train_subset, y_train_subset)\n",
        "PDL = PointerDecisionList(base_clf, x_train_subset, y_train_subset, x_val, y_val, 1, 1)"
      ]
    },
    {
      "cell_type": "markdown",
      "metadata": {
        "id": "gcScmDX_HATD"
      },
      "source": [
        "Train your *(g,h)* pair on the subset of training data below:"
      ]
    },
    {
      "cell_type": "code",
      "execution_count": null,
      "metadata": {
        "id": "-YeQdZATHATD"
      },
      "outputs": [],
      "source": [
        "# define group function\n",
        "def g(X):\n",
        "    return X['RAC1P'] == 2\n",
        "\n",
        "# initialize ML hypothesis class\n",
        "clf = sk.tree.DecisionTreeRegressor(max_depth = 5, random_state = 42)\n",
        "\n",
        "# find group indices on data\n",
        "indices = g(x_train_subset)\n",
        "\n",
        "# fit model specifically to group\n",
        "clf.fit(x_train_subset[indices], y_train_subset[indices])\n",
        "\n",
        "# define hypothesis function as bound clf.predict\n",
        "h = clf.predict"
      ]
    },
    {
      "cell_type": "markdown",
      "metadata": {
        "id": "ZPbTXYO2HATE"
      },
      "source": [
        "Attempt an update using the following syntax"
      ]
    },
    {
      "cell_type": "code",
      "execution_count": null,
      "metadata": {
        "id": "peEIEcm6HATE"
      },
      "outputs": [],
      "source": [
        "update_flag = PDL.update(g, h, x_train_subset, y_train_subset, x_val, y_val)"
      ]
    },
    {
      "cell_type": "markdown",
      "metadata": {
        "id": "rukPda_bHATF"
      },
      "source": [
        "You can put these two together to train a classifier using the whole training dataset after if it has been accepted:"
      ]
    },
    {
      "cell_type": "code",
      "execution_count": null,
      "metadata": {
        "id": "K_nSeyA4HATF"
      },
      "outputs": [],
      "source": [
        "# define group function\n",
        "def g(X):\n",
        "    return X['RAC1P'] == 1\n",
        "\n",
        "# initialize ML hypothesis class\n",
        "clf = sk.tree.DecisionTreeRegressor(max_depth = 10, random_state = 42)\n",
        "\n",
        "# find group indices on training subset\n",
        "indices = g(x_train_subset)\n",
        "\n",
        "# fit model specifically to group subset\n",
        "clf.fit(x_train_subset[indices], y_train_subset[indices])\n",
        "\n",
        "# define hypothesis function as bound clf.predict\n",
        "h = clf.predict\n",
        "\n",
        "# compute PDL update\n",
        "update_flag = PDL.update(g, h, x_train_subset, y_train_subset, x_val, y_val)\n",
        "\n",
        "if update_flag:\n",
        "\n",
        "    # recompute indices over whole training dataset\n",
        "    indices = g(x_train)\n",
        "\n",
        "    # refit classifier to full group\n",
        "    clf.fit(x_train[indices], y_train[indices])\n",
        "\n",
        "    # define hypothesis function as bound clf.predict\n",
        "    h = clf.predict    "
      ]
    },
    {
      "cell_type": "markdown",
      "metadata": {
        "id": "VR8CrYoNHATG"
      },
      "source": [
        "Submit *(g,h)* pair to GitHub!"
      ]
    },
    {
      "cell_type": "markdown",
      "metadata": {
        "id": "CUw3CIqVHATG"
      },
      "source": [
        "**NOTE: You can save your PDL but it will require that your validation set does not change! Thus, you should not change the random state used to split your training data once you create your PDL**"
      ]
    },
    {
      "cell_type": "code",
      "execution_count": null,
      "metadata": {
        "id": "TzCaXxCYHATG"
      },
      "outputs": [],
      "source": [
        "# save PDL\n",
        "PDL.save_model()\n",
        "\n",
        "# open PDL structure\n",
        "with open('PDL/model.pkl', 'rb') as file:\n",
        "    PDL = pkl.load(file)\n",
        "\n",
        "# reload group/hypothesis functions to PDL\n",
        "PDL.reload_functions()"
      ]
    },
    {
      "cell_type": "markdown",
      "metadata": {
        "tags": [],
        "id": "8hQGTj7dHATG"
      },
      "source": [
        "# Automated Group Finding"
      ]
    },
    {
      "cell_type": "markdown",
      "metadata": {
        "tags": [],
        "id": "YeApVqaPHATG"
      },
      "source": [
        "## Epsilon above/below"
      ]
    },
    {
      "cell_type": "code",
      "execution_count": null,
      "metadata": {
        "id": "7vWo3TkYHATH"
      },
      "outputs": [],
      "source": [
        "# view how different global is from labels\n",
        "abs_diff = (global_preds - y_train).abs()\n",
        "abs_diff.describe()"
      ]
    },
    {
      "cell_type": "code",
      "execution_count": null,
      "metadata": {
        "id": "6Rh80GeCHATH"
      },
      "outputs": [],
      "source": [
        "# Train clf to identify rows with big difference\n",
        "\n",
        "def epsilon_above(epsilon):\n",
        "    # define 0,1 labels where current predictions OVERESTIMATE by at least epsilon\n",
        "    binary_labels = (global_preds - y_train) < epsilon\n",
        "\n",
        "    # define group classifier class\n",
        "    clf = sk.tree.DecisionTreeClassifier(max_depth = 10, random_state = 42)\n",
        "\n",
        "    # fit classifier to binary labels\n",
        "    clf.fit(x_train, binary_labels)\n",
        "\n",
        "    # define g\n",
        "    g = clf.predict\n",
        "    # visualize results\n",
        "    # pd.DataFrame(g(x_train).astype(int)).describe()\n",
        "    \n",
        "    return g\n",
        "\n",
        "def epsilon_below(epsilon):\n",
        "    # define 0,1 labels where current predictions OVERESTIMATE by at least epsilon\n",
        "    binary_labels = (y_train - global_preds) < epsilon\n",
        "\n",
        "    # define group classifier class\n",
        "    clf = sk.tree.DecisionTreeClassifier(max_depth = 10, random_state = 42)\n",
        "\n",
        "    # fit classifier to binary labels\n",
        "    clf.fit(x_train, binary_labels)\n",
        "\n",
        "    # define g\n",
        "    g = clf.predict\n",
        "    # visualize results\n",
        "    # pd.DataFrame(g(x_train).astype(int)).describe()\n",
        "    \n",
        "    return g"
      ]
    },
    {
      "cell_type": "code",
      "execution_count": null,
      "metadata": {
        "id": "qz6csEPMHATH"
      },
      "outputs": [],
      "source": [
        "for i in range(10):\n",
        "    g = epsilon_below(i*1000)\n",
        "    h = train_basic_h(g)\n",
        "    print(str(i*1000))\n",
        "    check_global_improvement(g,h)"
      ]
    },
    {
      "cell_type": "markdown",
      "metadata": {
        "id": "JIYuayvUHATH"
      },
      "source": [
        "## Targeted Correction"
      ]
    },
    {
      "cell_type": "code",
      "execution_count": null,
      "metadata": {
        "id": "Jx3-BhJwHATI"
      },
      "outputs": [],
      "source": [
        "class targeted_correction:\n",
        "    def __init__(self, clf, value, epsilon):\n",
        "        self.clf = clf\n",
        "        self.value = value\n",
        "        self.epsilon = epsilon\n",
        "\n",
        "    def __call__(self, X):\n",
        "        return self.predict(X)\n",
        "    \n",
        "    def predict(self, X):\n",
        "        predictions = self.clf.predict(X)\n",
        "        return abs(predictions - self.value) < self.epsilon"
      ]
    },
    {
      "cell_type": "code",
      "execution_count": null,
      "metadata": {
        "id": "qejcV0B0HATI"
      },
      "outputs": [],
      "source": [
        "# data exploration\n",
        "for i in range(100):\n",
        "    g = targeted_correction(clf, i*1000, 5000)\n",
        "    indices = g(x_train)\n",
        "    old_RMSE = math.sqrt(mean_squared_error(y_train[indices], global_preds[indices]))\n",
        "    print(old_RMSE)"
      ]
    },
    {
      "cell_type": "code",
      "execution_count": null,
      "metadata": {
        "id": "KCmpbLRfHATI"
      },
      "outputs": [],
      "source": [
        "for i in range(0, 100):\n",
        "    # print(i*1000)\n",
        "    for j in range(5, 35):\n",
        "        v = i*1000\n",
        "        e = j*400\n",
        "        g = targeted_correction(clf, e, j)\n",
        "        if (not (g(x_train)==0).all()): # check if 0 for all predictions to avoid error\n",
        "            print(str(v), str(e))\n",
        "            h = train_basic_h(g)\n",
        "            if (check_global_improvement(g,h) > 0):\n",
        "                print(v,e)\n",
        "                break;"
      ]
    },
    {
      "cell_type": "markdown",
      "metadata": {
        "id": "WHshNaLiHATI"
      },
      "source": [
        "## Clustering"
      ]
    },
    {
      "cell_type": "code",
      "execution_count": 16,
      "metadata": {
        "colab": {
          "base_uri": "https://localhost:8080/"
        },
        "id": "BDw9OKeMHATI",
        "outputId": "0fbe7c0b-2deb-486a-c21f-132a46094a25"
      },
      "outputs": [
        {
          "output_type": "stream",
          "name": "stderr",
          "text": [
            "/usr/local/lib/python3.9/dist-packages/sklearn/cluster/_kmeans.py:870: FutureWarning: The default value of `n_init` will change from 10 to 'auto' in 1.4. Set the value of `n_init` explicitly to suppress the warning\n",
            "  warnings.warn(\n"
          ]
        },
        {
          "output_type": "execute_result",
          "data": {
            "text/plain": [
              "array([False, False, False, ...,  True, False,  True])"
            ]
          },
          "metadata": {},
          "execution_count": 16
        }
      ],
      "source": [
        "class cluster_n:\n",
        "\n",
        "    def __init__(self, clf, n):\n",
        "        # define attibutes here. You may add more parameters to the init method (see example below)\n",
        "        self.clf = clf  \n",
        "        self.n = n\n",
        "\n",
        "    # DO NOT CHANGE CALL FUNCTION, FORMAT .predict\n",
        "    def __call__(self, X):\n",
        "        return self.predict(X)\n",
        "    \n",
        "    def predict(self, X):\n",
        "        # find instances where cluster is 1\n",
        "        return self.clf.predict(X) == self.n\n",
        "\n",
        "    \n",
        "cluster_clf = sk.cluster.KMeans(n_clusters= 5, random_state = 42)\n",
        "cluster_clf.fit(x_train)\n",
        "g = cluster_n(cluster_clf, 1)\n",
        "\n",
        "# visualize results\n",
        "g(x_train)"
      ]
    },
    {
      "cell_type": "code",
      "execution_count": 25,
      "metadata": {
        "id": "y98lXaM3HATJ"
      },
      "outputs": [],
      "source": [
        "def save_cluster_pkls(g, h, i):\n",
        "    # save group function to g.pkl\n",
        "    g_path = \"/content/drive/MyDrive/Cis523/Bounty/cluster_pkls/{}g.pkl\".format(i)\n",
        "    h_path = \"/content/drive/MyDrive/Cis523/Bounty/cluster_pkls/{}h.pkl\".format(i)\n",
        "    \n",
        "    with open(g_path, 'wb') as file:\n",
        "        pkl.dump(g, file)\n",
        "\n",
        "    # save hypothesis function to h.pkl\n",
        "    with open(h_path, 'wb') as file:\n",
        "        pkl.dump(h, file)"
      ]
    },
    {
      "cell_type": "code",
      "source": [
        "n=20\n",
        "cluster_clf = sk.cluster.KMeans(n_clusters=n, random_state = 42)\n",
        "cluster_clf.fit(x_train_subset)"
      ],
      "metadata": {
        "colab": {
          "base_uri": "https://localhost:8080/",
          "height": 128
        },
        "id": "fC6fqNzZIzl5",
        "outputId": "edf8cebb-7c8f-4ed8-bdaa-b9779d0fd832"
      },
      "execution_count": 33,
      "outputs": [
        {
          "output_type": "stream",
          "name": "stderr",
          "text": [
            "/usr/local/lib/python3.9/dist-packages/sklearn/cluster/_kmeans.py:870: FutureWarning: The default value of `n_init` will change from 10 to 'auto' in 1.4. Set the value of `n_init` explicitly to suppress the warning\n",
            "  warnings.warn(\n"
          ]
        },
        {
          "output_type": "execute_result",
          "data": {
            "text/plain": [
              "KMeans(n_clusters=20, random_state=42)"
            ],
            "text/html": [
              "<style>#sk-container-id-4 {color: black;background-color: white;}#sk-container-id-4 pre{padding: 0;}#sk-container-id-4 div.sk-toggleable {background-color: white;}#sk-container-id-4 label.sk-toggleable__label {cursor: pointer;display: block;width: 100%;margin-bottom: 0;padding: 0.3em;box-sizing: border-box;text-align: center;}#sk-container-id-4 label.sk-toggleable__label-arrow:before {content: \"▸\";float: left;margin-right: 0.25em;color: #696969;}#sk-container-id-4 label.sk-toggleable__label-arrow:hover:before {color: black;}#sk-container-id-4 div.sk-estimator:hover label.sk-toggleable__label-arrow:before {color: black;}#sk-container-id-4 div.sk-toggleable__content {max-height: 0;max-width: 0;overflow: hidden;text-align: left;background-color: #f0f8ff;}#sk-container-id-4 div.sk-toggleable__content pre {margin: 0.2em;color: black;border-radius: 0.25em;background-color: #f0f8ff;}#sk-container-id-4 input.sk-toggleable__control:checked~div.sk-toggleable__content {max-height: 200px;max-width: 100%;overflow: auto;}#sk-container-id-4 input.sk-toggleable__control:checked~label.sk-toggleable__label-arrow:before {content: \"▾\";}#sk-container-id-4 div.sk-estimator input.sk-toggleable__control:checked~label.sk-toggleable__label {background-color: #d4ebff;}#sk-container-id-4 div.sk-label input.sk-toggleable__control:checked~label.sk-toggleable__label {background-color: #d4ebff;}#sk-container-id-4 input.sk-hidden--visually {border: 0;clip: rect(1px 1px 1px 1px);clip: rect(1px, 1px, 1px, 1px);height: 1px;margin: -1px;overflow: hidden;padding: 0;position: absolute;width: 1px;}#sk-container-id-4 div.sk-estimator {font-family: monospace;background-color: #f0f8ff;border: 1px dotted black;border-radius: 0.25em;box-sizing: border-box;margin-bottom: 0.5em;}#sk-container-id-4 div.sk-estimator:hover {background-color: #d4ebff;}#sk-container-id-4 div.sk-parallel-item::after {content: \"\";width: 100%;border-bottom: 1px solid gray;flex-grow: 1;}#sk-container-id-4 div.sk-label:hover label.sk-toggleable__label {background-color: #d4ebff;}#sk-container-id-4 div.sk-serial::before {content: \"\";position: absolute;border-left: 1px solid gray;box-sizing: border-box;top: 0;bottom: 0;left: 50%;z-index: 0;}#sk-container-id-4 div.sk-serial {display: flex;flex-direction: column;align-items: center;background-color: white;padding-right: 0.2em;padding-left: 0.2em;position: relative;}#sk-container-id-4 div.sk-item {position: relative;z-index: 1;}#sk-container-id-4 div.sk-parallel {display: flex;align-items: stretch;justify-content: center;background-color: white;position: relative;}#sk-container-id-4 div.sk-item::before, #sk-container-id-4 div.sk-parallel-item::before {content: \"\";position: absolute;border-left: 1px solid gray;box-sizing: border-box;top: 0;bottom: 0;left: 50%;z-index: -1;}#sk-container-id-4 div.sk-parallel-item {display: flex;flex-direction: column;z-index: 1;position: relative;background-color: white;}#sk-container-id-4 div.sk-parallel-item:first-child::after {align-self: flex-end;width: 50%;}#sk-container-id-4 div.sk-parallel-item:last-child::after {align-self: flex-start;width: 50%;}#sk-container-id-4 div.sk-parallel-item:only-child::after {width: 0;}#sk-container-id-4 div.sk-dashed-wrapped {border: 1px dashed gray;margin: 0 0.4em 0.5em 0.4em;box-sizing: border-box;padding-bottom: 0.4em;background-color: white;}#sk-container-id-4 div.sk-label label {font-family: monospace;font-weight: bold;display: inline-block;line-height: 1.2em;}#sk-container-id-4 div.sk-label-container {text-align: center;}#sk-container-id-4 div.sk-container {/* jupyter's `normalize.less` sets `[hidden] { display: none; }` but bootstrap.min.css set `[hidden] { display: none !important; }` so we also need the `!important` here to be able to override the default hidden behavior on the sphinx rendered scikit-learn.org. See: https://github.com/scikit-learn/scikit-learn/issues/21755 */display: inline-block !important;position: relative;}#sk-container-id-4 div.sk-text-repr-fallback {display: none;}</style><div id=\"sk-container-id-4\" class=\"sk-top-container\"><div class=\"sk-text-repr-fallback\"><pre>KMeans(n_clusters=20, random_state=42)</pre><b>In a Jupyter environment, please rerun this cell to show the HTML representation or trust the notebook. <br />On GitHub, the HTML representation is unable to render, please try loading this page with nbviewer.org.</b></div><div class=\"sk-container\" hidden><div class=\"sk-item\"><div class=\"sk-estimator sk-toggleable\"><input class=\"sk-toggleable__control sk-hidden--visually\" id=\"sk-estimator-id-4\" type=\"checkbox\" checked><label for=\"sk-estimator-id-4\" class=\"sk-toggleable__label sk-toggleable__label-arrow\">KMeans</label><div class=\"sk-toggleable__content\"><pre>KMeans(n_clusters=20, random_state=42)</pre></div></div></div></div></div>"
            ]
          },
          "metadata": {},
          "execution_count": 33
        }
      ]
    },
    {
      "cell_type": "code",
      "execution_count": 34,
      "metadata": {
        "colab": {
          "base_uri": "https://localhost:8080/"
        },
        "id": "PDc_TpE4HATJ",
        "outputId": "84079bfb-05a5-4d5d-aee6-32cb5f7a2741"
      },
      "outputs": [
        {
          "output_type": "stream",
          "name": "stdout",
          "text": [
            "done\n"
          ]
        }
      ],
      "source": [
        "for i in range(0, n):\n",
        "    g = cluster_n(cluster_clf, i)\n",
        "    h = train_basic_h(g)\n",
        "    if (check_global_improvement(g,h) > 0):\n",
        "        print(n, i, check_global_improvement(g,h), g(x_train).sum())\n",
        "        save_cluster_pkls(g,h,i)\n",
        "\n",
        "print(\"done\")"
      ]
    }
  ],
  "metadata": {
    "kernelspec": {
      "display_name": "Python 3 (ipykernel)",
      "language": "python",
      "name": "python3"
    },
    "language_info": {
      "codemirror_mode": {
        "name": "ipython",
        "version": 3
      },
      "file_extension": ".py",
      "mimetype": "text/x-python",
      "name": "python",
      "nbconvert_exporter": "python",
      "pygments_lexer": "ipython3",
      "version": "3.9.13"
    },
    "colab": {
      "provenance": []
    }
  },
  "nbformat": 4,
  "nbformat_minor": 0
}